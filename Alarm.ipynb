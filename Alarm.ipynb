{
 "cells": [
  {
   "cell_type": "code",
   "execution_count": 1,
   "metadata": {},
   "outputs": [
    {
     "name": "stdout",
     "output_type": "stream",
     "text": [
      "Collecting playsound\n",
      "  Downloading playsound-1.2.2-py2.py3-none-any.whl (6.0 kB)\n",
      "Installing collected packages: playsound\n",
      "Successfully installed playsound-1.2.2\n"
     ]
    }
   ],
   "source": [
    "!pip install playsound"
   ]
  },
  {
   "cell_type": "code",
   "execution_count": 28,
   "metadata": {},
   "outputs": [],
   "source": [
    "from datetime import datetime"
   ]
  },
  {
   "cell_type": "code",
   "execution_count": 44,
   "metadata": {},
   "outputs": [
    {
     "name": "stdout",
     "output_type": "stream",
     "text": [
      "Enter the date and time in format: HH:MM:SS\n",
      "22:02:00\n",
      "Wake up!!!\n"
     ]
    }
   ],
   "source": [
    "alarm_time = input(\"Enter the date and time in format: HH:MM:SS\\n\")\n",
    "alarm_time_hour = alarm_time[0:2]\n",
    "alarm_time_minutes = alarm_time[3:5]\n",
    "alarm_time_seconds = alarm_time[6:8]\n",
    "\n",
    "while True:\n",
    "    present_time = datetime.now()\n",
    "    present_time_str_hour = present_time.strftime(\"%H\")\n",
    "    present_time_str_minutes = present_time.strftime(\"%M\")\n",
    "    present_time_str_seconds = present_time.strftime(\"%S\")\n",
    "    if(present_time_str_hour == alarm_time_hour):\n",
    "        if(present_time_str_minutes == alarm_time_minutes):\n",
    "            if(present_time_str_seconds == alarm_time_seconds):\n",
    "                print(\"Wake up!!!\")\n",
    "                break"
   ]
  }
 ],
 "metadata": {
  "kernelspec": {
   "display_name": "Python 3",
   "language": "python",
   "name": "python3"
  },
  "language_info": {
   "codemirror_mode": {
    "name": "ipython",
    "version": 3
   },
   "file_extension": ".py",
   "mimetype": "text/x-python",
   "name": "python",
   "nbconvert_exporter": "python",
   "pygments_lexer": "ipython3",
   "version": "3.8.5"
  }
 },
 "nbformat": 4,
 "nbformat_minor": 4
}
