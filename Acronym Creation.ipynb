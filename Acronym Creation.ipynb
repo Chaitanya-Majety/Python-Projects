{
 "cells": [
  {
   "cell_type": "markdown",
   "metadata": {},
   "source": [
    "# Acronym Creation"
   ]
  },
  {
   "cell_type": "code",
   "execution_count": 8,
   "metadata": {},
   "outputs": [
    {
     "name": "stdout",
     "output_type": "stream",
     "text": [
      "Enter some Input to build Acronym:Artificial Intelligence\n"
     ]
    },
    {
     "data": {
      "text/plain": [
       "'AI'"
      ]
     },
     "execution_count": 8,
     "metadata": {},
     "output_type": "execute_result"
    }
   ],
   "source": [
    "user_in = str(input(\"Enter some Input to build Acronym:\"))\n",
    "acronym = user_in.split()\n",
    "if len(acronym)!=1:\n",
    "    count = 0\n",
    "    for i in acronym:\n",
    "        acronym[count] = i[0].upper()\n",
    "        count += 1\n",
    "\n",
    "finals_acr = (\"\").join(acronym)\n",
    "finals_acr"
   ]
  },
  {
   "cell_type": "code",
   "execution_count": null,
   "metadata": {},
   "outputs": [],
   "source": []
  }
 ],
 "metadata": {
  "kernelspec": {
   "display_name": "Python 3",
   "language": "python",
   "name": "python3"
  },
  "language_info": {
   "codemirror_mode": {
    "name": "ipython",
    "version": 3
   },
   "file_extension": ".py",
   "mimetype": "text/x-python",
   "name": "python",
   "nbconvert_exporter": "python",
   "pygments_lexer": "ipython3",
   "version": "3.8.5"
  }
 },
 "nbformat": 4,
 "nbformat_minor": 4
}
